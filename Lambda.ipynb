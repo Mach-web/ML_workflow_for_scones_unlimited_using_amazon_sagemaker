{
 "cells": [
  {
   "cell_type": "code",
   "execution_count": 2,
   "id": "a7e3b53b-98c2-4519-8e1c-73fda9450703",
   "metadata": {},
   "outputs": [],
   "source": [
    "import json\n",
    "import boto3\n",
    "import base64\n",
    "s3 = boto3.client('s3')\n",
    "\n",
    "def lambda_handler(event, context):\n",
    "    key =event[\"s3_key\"]\n",
    "    bucket = event[\"s3_bucket\"]\n",
    "    print(key)\n",
    "\n",
    "    boto3.resource('s3').Bucket(bucket).download_file(key, \"/tmp/image.png\")\n",
    "\n",
    "    # We read the data from a file\n",
    "    with open(\"/tmp/image.png\", \"rb\") as f:\n",
    "        image_data = base64.b64encode(f.read())\n",
    "\n",
    "    # Pass the data back to the Step Function\n",
    "    print(\"Event:\", event.keys())\n",
    "    return {\n",
    "        'statusCode': 200,\n",
    "        'body': {\n",
    "            \"image_data\": image_data,\n",
    "            \"s3_bucket\": bucket,\n",
    "            \"s3_key\": key,\n",
    "            \"inferences\": []\n",
    "        }\n",
    "}"
   ]
  },
  {
   "cell_type": "code",
   "execution_count": 3,
   "id": "0201c13a-5fec-4a68-902a-f53d5b714699",
   "metadata": {},
   "outputs": [],
   "source": [
    "import json\n",
    "import base64\n",
    "import boto3\n",
    "ENDPOINT = \"new-endpoint\"\n",
    "def lambda_handler(event, context):\n",
    "    image = base64.b64decode(event[\"body\"][\"image_data\"])\n",
    "    runtime = boto3.client('sagemaker-runtime')\n",
    "    response = runtime.invoke_endpoint(\n",
    "        EndpointName=ENDPOINT,\n",
    "        ContentType='application/x-image',  \n",
    "        Body=image\n",
    "    )\n",
    "\n",
    "    inferences = json.loads(response['Body'].read().decode('utf-8'))\n",
    "    event[\"inferences\"] = inferences\n",
    "    return {\n",
    "        'statusCode': 200,\n",
    "        'body': {\n",
    "            \"image_data\": event[\"body\"]['image_data'],\n",
    "            \"s3_bucket\": event[\"body\"]['s3_bucket'],\n",
    "            \"s3_key\": event[\"body\"]['s3_key'],\n",
    "            \"inferences\": event['inferences'],\n",
    "       }\n",
    "    }\n"
   ]
  },
  {
   "cell_type": "code",
   "execution_count": 4,
   "id": "be3bed1b-89c5-4701-afe4-ba0ac6689819",
   "metadata": {},
   "outputs": [],
   "source": [
    "import json\n",
    "\n",
    "THRESHOLD = 0.9\n",
    "\n",
    "def lambda_handler(event, context):\n",
    "    inferences = event[\"body\"]['inferences']\n",
    "    meets_threshold = max(list(inferences))>THRESHOLD\n",
    "\n",
    "    if meets_threshold:\n",
    "        pass\n",
    "    else:\n",
    "        raise(\"THRESHOLD_NOT_MET\")\n",
    "\n",
    "    return {\n",
    "        'statusCode': 200,\n",
    "        'body': event\n",
    "    }"
   ]
  },
  {
   "cell_type": "code",
   "execution_count": null,
   "id": "0af39e30-b3c3-4c55-be11-55050bc2d2b2",
   "metadata": {},
   "outputs": [],
   "source": []
  }
 ],
 "metadata": {
  "kernelspec": {
   "display_name": "Python 3 (ipykernel)",
   "language": "python",
   "name": "python3"
  },
  "language_info": {
   "codemirror_mode": {
    "name": "ipython",
    "version": 3
   },
   "file_extension": ".py",
   "mimetype": "text/x-python",
   "name": "python",
   "nbconvert_exporter": "python",
   "pygments_lexer": "ipython3",
   "version": "3.10.14"
  }
 },
 "nbformat": 4,
 "nbformat_minor": 5
}
